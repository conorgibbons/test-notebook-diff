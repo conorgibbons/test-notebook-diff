{
 "cells": [
  {
   "cell_type": "code",
   "execution_count": null,
   "id": "41cca85a-08a7-4395-a355-4172028b3223",
   "metadata": {},
   "outputs": [],
   "source": [
    "what happens now?"
   ]
  }
 ],
 "metadata": {
  "kernelspec": {
   "display_name": "Python 3 (ipykernel)",
   "language": "python",
   "name": "python3"
  },
  "language_info": {
   "codemirror_mode": {
    "name": "ipython",
    "version": 3
   },
   "file_extension": ".py",
   "mimetype": "text/x-python",
   "name": "python",
   "nbconvert_exporter": "python",
   "pygments_lexer": "ipython3",
   "version": "3.9.14"
  }
 },
 "nbformat": 4,
 "nbformat_minor": 5
}
