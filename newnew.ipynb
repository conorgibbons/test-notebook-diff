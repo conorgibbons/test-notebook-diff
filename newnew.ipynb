{
 "cells": [
  {
   "cell_type": "code",
   "execution_count": null,
   "id": "82beb36a-6c10-44bf-b251-45451c8b15aa",
   "metadata": {},
   "outputs": [],
   "source": [
    "new new "
   ]
  },
  {
   "cell_type": "code",
   "execution_count": null,
   "id": "09c0d1a0-b33b-4cf9-92e1-996128784863",
   "metadata": {},
   "outputs": [],
   "source": [
    "trigger cleanup"
   ]
  },
  {
   "cell_type": "code",
   "execution_count": 1,
   "id": "c8d8609e-0e3a-424d-8582-0ab7d2569be2",
   "metadata": {
    "tags": []
   },
   "outputs": [
    {
     "data": {
      "text/plain": [
       "'second notebook edit'"
      ]
     },
     "execution_count": 1,
     "metadata": {},
     "output_type": "execute_result"
    }
   ],
   "source": [
    "'second notebook edit'"
   ]
  }
 ],
 "metadata": {
  "kernelspec": {
   "display_name": "Python 3 (ipykernel)",
   "language": "python",
   "name": "python3"
  },
  "language_info": {
   "codemirror_mode": {
    "name": "ipython",
    "version": 3
   },
   "file_extension": ".py",
   "mimetype": "text/x-python",
   "name": "python",
   "nbconvert_exporter": "python",
   "pygments_lexer": "ipython3",
   "version": "3.9.14"
  }
 },
 "nbformat": 4,
 "nbformat_minor": 5
}
