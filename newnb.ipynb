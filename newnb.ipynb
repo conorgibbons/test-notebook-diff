{
 "cells": [
  {
   "cell_type": "code",
   "execution_count": 1,
   "id": "074ccc57-891a-409d-a47c-2e08744db444",
   "metadata": {
    "tags": []
   },
   "outputs": [
    {
     "ename": "SyntaxError",
     "evalue": "invalid syntax (770903380.py, line 1)",
     "output_type": "error",
     "traceback": [
      "\u001b[0;36m  Cell \u001b[0;32mIn[1], line 1\u001b[0;36m\u001b[0m\n\u001b[0;31m    new nb\u001b[0m\n\u001b[0m        ^\u001b[0m\n\u001b[0;31mSyntaxError\u001b[0m\u001b[0;31m:\u001b[0m invalid syntax\n"
     ]
    }
   ],
   "source": [
    "new nb"
   ]
  },
  {
   "cell_type": "code",
   "execution_count": 1,
   "id": "5944050d-b6d2-45c3-9f50-ccf1ece10ac4",
   "metadata": {},
   "outputs": [
    {
     "data": {
      "text/plain": [
       "'editing this first'"
      ]
     },
     "execution_count": 1,
     "metadata": {},
     "output_type": "execute_result"
    }
   ],
   "source": [
    "'editing this first'"
   ]
  },
  {
   "cell_type": "code",
   "execution_count": 1,
   "id": "6c82a243-e992-4ff6-97cd-d85e2b9374cc",
   "metadata": {
    "tags": []
   },
   "outputs": [
    {
     "data": {
      "text/plain": [
       "'new edits'"
      ]
     },
     "execution_count": 1,
     "metadata": {},
     "output_type": "execute_result"
    }
   ],
   "source": [
    "'new edits'"
   ]
  },
  {
   "cell_type": "code",
   "execution_count": 1,
   "id": "bfe8064a-df7a-4797-afb4-5df44bf3aa31",
   "metadata": {
    "tags": []
   },
   "outputs": [
    {
     "data": {
      "text/plain": [
       "'hi'"
      ]
     },
     "execution_count": 1,
     "metadata": {},
     "output_type": "execute_result"
    }
   ],
   "source": [
    "'hi'"
   ]
  }
 ],
 "metadata": {
  "kernelspec": {
   "display_name": "Python 3 (ipykernel)",
   "language": "python",
   "name": "python3"
  },
  "language_info": {
   "codemirror_mode": {
    "name": "ipython",
    "version": 3
   },
   "file_extension": ".py",
   "mimetype": "text/x-python",
   "name": "python",
   "nbconvert_exporter": "python",
   "pygments_lexer": "ipython3",
   "version": "3.9.14"
  }
 },
 "nbformat": 4,
 "nbformat_minor": 5
}
