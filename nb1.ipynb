{
 "cells": [
  {
   "cell_type": "code",
   "execution_count": 1,
   "id": "2e23a328-7fb2-40c9-b8ca-0fb812dae283",
   "metadata": {},
   "outputs": [
    {
     "name": "stdout",
     "output_type": "stream",
     "text": [
      "   col_A  col_B\n",
      "0     10     40\n",
      "1     20     50\n",
      "2     30     60\n"
     ]
    }
   ],
   "source": [
    "# Updated code\n",
    "import pandas as pd\n",
    "df = pd.DataFrame({'col_X': [10, 20, 30], 'col_B': [40, 50, 60]}) # Changed column names and data\n",
    "print(df)"
   ]
  },
  {
   "cell_type": "code",
   "execution_count": null,
   "id": "c1415e94-0c76-4f48-8dcc-c04cd6131ef2",
   "metadata": {},
   "outputs": [],
   "source": [
    "# New cell\n",
    "print(\"This is a new feature!\")"
   ]
  },
  {
   "cell_type": "code",
   "execution_count": null,
   "id": "61fcfe14-1205-40f0-b45b-3ef46e48fe08",
   "metadata": {},
   "outputs": [],
   "source": [
    "hi"
   ]
  },
  {
   "cell_type": "code",
   "execution_count": null,
   "id": "0745f6a3-62bc-4296-93be-5d23efa6c308",
   "metadata": {},
   "outputs": [],
   "source": [
    "yo"
   ]
  },
  {
   "cell_type": "code",
   "execution_count": null,
   "id": "36ac892a-8790-44dc-8fa9-83764d261c7f",
   "metadata": {},
   "outputs": [],
   "source": [
    "yooooooo"
   ]
  },
  {
   "cell_type": "code",
   "execution_count": null,
   "id": "0df3e276-cb9f-4fed-aa62-186fb214f0a4",
   "metadata": {},
   "outputs": [],
   "source": [
    "!"
   ]
  },
  {
   "cell_type": "code",
   "execution_count": null,
   "id": "eb96573f-791f-48f0-8e96-abd2381578aa",
   "metadata": {},
   "outputs": [],
   "source": [
    "asdf"
   ]
  },
  {
   "cell_type": "code",
   "execution_count": null,
   "id": "16d7c9b0-3d2b-41be-9843-bc38ac03841b",
   "metadata": {},
   "outputs": [],
   "source": [
    "HI"
   ]
  }
 ],
 "metadata": {
  "kernelspec": {
   "display_name": "Python 3 (ipykernel)",
   "language": "python",
   "name": "python3"
  },
  "language_info": {
   "codemirror_mode": {
    "name": "ipython",
    "version": 3
   },
   "file_extension": ".py",
   "mimetype": "text/x-python",
   "name": "python",
   "nbconvert_exporter": "python",
   "pygments_lexer": "ipython3",
   "version": "3.9.14"
  }
 },
 "nbformat": 4,
 "nbformat_minor": 5
}
