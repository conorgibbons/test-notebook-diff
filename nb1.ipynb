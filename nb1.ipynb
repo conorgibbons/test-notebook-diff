{
 "cells": [
  {
   "cell_type": "code",
   "execution_count": null,
   "id": "2c44bf7a-6299-4d55-a4ec-0f56190e8575",
   "metadata": {},
   "outputs": [],
   "source": [
    "based"
   ]
  }
 ],
 "metadata": {
  "kernelspec": {
   "display_name": "Python 3 (ipykernel)",
   "language": "python",
   "name": "python3"
  },
  "language_info": {
   "codemirror_mode": {
    "name": "ipython",
    "version": 3
   },
   "file_extension": ".py",
   "mimetype": "text/x-python",
   "name": "python",
   "nbconvert_exporter": "python",
   "pygments_lexer": "ipython3",
   "version": "3.9.14"
  }
 },
 "nbformat": 4,
 "nbformat_minor": 5
}
